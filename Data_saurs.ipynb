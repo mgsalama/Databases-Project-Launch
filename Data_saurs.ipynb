{
 "cells": [
  {
   "cell_type": "code",
   "execution_count": 2,
   "metadata": {
    "colab": {
     "base_uri": "https://localhost:8080/",
     "height": 373
    },
    "id": "M_Qhu4z8GErs",
    "outputId": "5d909408-1634-4a97-9670-cdada5740cef"
   },
   "outputs": [],
   "source": [
    "import pandas as pd \n",
    "import sqlalchemy\n",
    "import pymysql\n",
    "from sqlalchemy import create_engine\n",
    "import pandas as pd"
   ]
  },
  {
   "cell_type": "code",
   "execution_count": 3,
   "metadata": {
    "id": "si408f8PGyyN"
   },
   "outputs": [],
   "source": [
    "students = pd.read_csv(\"students.csv\")\n",
    "password = 'Jesse156.'\n",
    "db_name = 'students'"
   ]
  },
  {
   "cell_type": "code",
   "execution_count": 4,
   "metadata": {},
   "outputs": [],
   "source": [
    "conn = pymysql.connect(host='127.0.0.1', port=3306, user='root', password=password, database=db_name)"
   ]
  },
  {
   "cell_type": "code",
   "execution_count": 5,
   "metadata": {},
   "outputs": [],
   "source": [
    "connection = create_engine(\"mysql+pymysql://root:\" + password + \"@localhost:3306/\" + db_name)"
   ]
  },
  {
   "cell_type": "code",
   "execution_count": 8,
   "metadata": {},
   "outputs": [
    {
     "data": {
      "text/plain": [
       "30"
      ]
     },
     "execution_count": 8,
     "metadata": {},
     "output_type": "execute_result"
    }
   ],
   "source": [
    "students.to_sql(name=\"students\", con=connection, if_exists='replace', index=False)"
   ]
  },
  {
   "cell_type": "code",
   "execution_count": 7,
   "metadata": {},
   "outputs": [],
   "source": [
    "query1 = \"SELECT * FROM students\"\n",
    "studs = pd.read_sql(query1, con=connection)"
   ]
  },
  {
   "cell_type": "code",
   "execution_count": 154,
   "metadata": {},
   "outputs": [],
   "source": [
    "courses = pd.read_csv(\"courses.csv\")"
   ]
  },
  {
   "cell_type": "code",
   "execution_count": 155,
   "metadata": {},
   "outputs": [],
   "source": [
    "courses.to_sql(name='courses', con=connection, if_exists='replace', index=False)\n",
    "cors = pd.read_sql(\"SELECT * FROM courses\", con=connection)"
   ]
  },
  {
   "cell_type": "code",
   "execution_count": 156,
   "metadata": {},
   "outputs": [],
   "source": [
    "grades = pd.read_csv(\"grades.csv\")"
   ]
  },
  {
   "cell_type": "code",
   "execution_count": 157,
   "metadata": {},
   "outputs": [
    {
     "data": {
      "text/html": [
       "<div>\n",
       "<style scoped>\n",
       "    .dataframe tbody tr th:only-of-type {\n",
       "        vertical-align: middle;\n",
       "    }\n",
       "\n",
       "    .dataframe tbody tr th {\n",
       "        vertical-align: top;\n",
       "    }\n",
       "\n",
       "    .dataframe thead th {\n",
       "        text-align: right;\n",
       "    }\n",
       "</style>\n",
       "<table border=\"1\" class=\"dataframe\">\n",
       "  <thead>\n",
       "    <tr style=\"text-align: right;\">\n",
       "      <th></th>\n",
       "      <th>grade_id</th>\n",
       "      <th>student_id</th>\n",
       "      <th>assignment_id</th>\n",
       "      <th>grade</th>\n",
       "      <th>course_id</th>\n",
       "    </tr>\n",
       "  </thead>\n",
       "  <tbody>\n",
       "    <tr>\n",
       "      <th>0</th>\n",
       "      <td>0</td>\n",
       "      <td>0</td>\n",
       "      <td>4</td>\n",
       "      <td>85</td>\n",
       "      <td>1</td>\n",
       "    </tr>\n",
       "    <tr>\n",
       "      <th>1</th>\n",
       "      <td>1</td>\n",
       "      <td>0</td>\n",
       "      <td>5</td>\n",
       "      <td>70</td>\n",
       "      <td>1</td>\n",
       "    </tr>\n",
       "    <tr>\n",
       "      <th>2</th>\n",
       "      <td>2</td>\n",
       "      <td>0</td>\n",
       "      <td>6</td>\n",
       "      <td>90</td>\n",
       "      <td>1</td>\n",
       "    </tr>\n",
       "    <tr>\n",
       "      <th>3</th>\n",
       "      <td>3</td>\n",
       "      <td>1</td>\n",
       "      <td>7</td>\n",
       "      <td>70</td>\n",
       "      <td>2</td>\n",
       "    </tr>\n",
       "    <tr>\n",
       "      <th>4</th>\n",
       "      <td>4</td>\n",
       "      <td>1</td>\n",
       "      <td>8</td>\n",
       "      <td>80</td>\n",
       "      <td>2</td>\n",
       "    </tr>\n",
       "    <tr>\n",
       "      <th>...</th>\n",
       "      <td>...</td>\n",
       "      <td>...</td>\n",
       "      <td>...</td>\n",
       "      <td>...</td>\n",
       "      <td>...</td>\n",
       "    </tr>\n",
       "    <tr>\n",
       "      <th>102</th>\n",
       "      <td>102</td>\n",
       "      <td>28</td>\n",
       "      <td>9</td>\n",
       "      <td>79</td>\n",
       "      <td>2</td>\n",
       "    </tr>\n",
       "    <tr>\n",
       "      <th>103</th>\n",
       "      <td>103</td>\n",
       "      <td>28</td>\n",
       "      <td>10</td>\n",
       "      <td>82</td>\n",
       "      <td>2</td>\n",
       "    </tr>\n",
       "    <tr>\n",
       "      <th>104</th>\n",
       "      <td>104</td>\n",
       "      <td>29</td>\n",
       "      <td>26</td>\n",
       "      <td>80</td>\n",
       "      <td>7</td>\n",
       "    </tr>\n",
       "    <tr>\n",
       "      <th>105</th>\n",
       "      <td>105</td>\n",
       "      <td>29</td>\n",
       "      <td>27</td>\n",
       "      <td>100</td>\n",
       "      <td>7</td>\n",
       "    </tr>\n",
       "    <tr>\n",
       "      <th>106</th>\n",
       "      <td>106</td>\n",
       "      <td>29</td>\n",
       "      <td>28</td>\n",
       "      <td>85</td>\n",
       "      <td>7</td>\n",
       "    </tr>\n",
       "  </tbody>\n",
       "</table>\n",
       "<p>107 rows × 5 columns</p>\n",
       "</div>"
      ],
      "text/plain": [
       "     grade_id  student_id  assignment_id  grade  course_id\n",
       "0           0           0              4     85          1\n",
       "1           1           0              5     70          1\n",
       "2           2           0              6     90          1\n",
       "3           3           1              7     70          2\n",
       "4           4           1              8     80          2\n",
       "..        ...         ...            ...    ...        ...\n",
       "102       102          28              9     79          2\n",
       "103       103          28             10     82          2\n",
       "104       104          29             26     80          7\n",
       "105       105          29             27    100          7\n",
       "106       106          29             28     85          7\n",
       "\n",
       "[107 rows x 5 columns]"
      ]
     },
     "execution_count": 157,
     "metadata": {},
     "output_type": "execute_result"
    }
   ],
   "source": [
    "grades.to_sql(name='grades', con=connection, if_exists='replace', index=False)\n",
    "grad = pd.read_sql(\"SELECT * FROM grades\", con=connection)\n",
    "grad"
   ]
  },
  {
   "cell_type": "code",
   "execution_count": 158,
   "metadata": {},
   "outputs": [],
   "source": [
    "assignments = pd.read_csv(\"assignments.csv\")"
   ]
  },
  {
   "cell_type": "code",
   "execution_count": 159,
   "metadata": {},
   "outputs": [],
   "source": [
    "assignments.to_sql(name='assignments', con=connection, if_exists='replace', index=False)\n",
    "assign = pd.read_sql(\"SELECT * FROM assignments\", con=connection)\n"
   ]
  },
  {
   "cell_type": "code",
   "execution_count": 160,
   "metadata": {},
   "outputs": [
    {
     "data": {
      "text/plain": [
       "107"
      ]
     },
     "execution_count": 160,
     "metadata": {},
     "output_type": "execute_result"
    }
   ],
   "source": [
    "full_cols = pd.read_sql(\"SELECT * FROM courses JOIN assignments ON assignments.course_id=courses.course_id JOIN grades ON assignments.assignment_id=grades.assignment_id JOIN students ON students.student_id=grades.student_id\", con=connection)\n",
    "full_cols.to_sql(name='student_info', con=connection, if_exists='replace', index=False)\n",
    "# talk about full data drawbacks"
   ]
  },
  {
   "cell_type": "code",
   "execution_count": 161,
   "metadata": {},
   "outputs": [
    {
     "data": {
      "text/html": [
       "<div>\n",
       "<style scoped>\n",
       "    .dataframe tbody tr th:only-of-type {\n",
       "        vertical-align: middle;\n",
       "    }\n",
       "\n",
       "    .dataframe tbody tr th {\n",
       "        vertical-align: top;\n",
       "    }\n",
       "\n",
       "    .dataframe thead th {\n",
       "        text-align: right;\n",
       "    }\n",
       "</style>\n",
       "<table border=\"1\" class=\"dataframe\">\n",
       "  <thead>\n",
       "    <tr style=\"text-align: right;\">\n",
       "      <th></th>\n",
       "      <th>student_id</th>\n",
       "      <th>final_grade</th>\n",
       "    </tr>\n",
       "  </thead>\n",
       "  <tbody>\n",
       "    <tr>\n",
       "      <th>0</th>\n",
       "      <td>0</td>\n",
       "      <td>83.00</td>\n",
       "    </tr>\n",
       "    <tr>\n",
       "      <th>1</th>\n",
       "      <td>1</td>\n",
       "      <td>79.10</td>\n",
       "    </tr>\n",
       "    <tr>\n",
       "      <th>2</th>\n",
       "      <td>2</td>\n",
       "      <td>71.50</td>\n",
       "    </tr>\n",
       "    <tr>\n",
       "      <th>3</th>\n",
       "      <td>3</td>\n",
       "      <td>86.50</td>\n",
       "    </tr>\n",
       "    <tr>\n",
       "      <th>4</th>\n",
       "      <td>4</td>\n",
       "      <td>80.00</td>\n",
       "    </tr>\n",
       "    <tr>\n",
       "      <th>5</th>\n",
       "      <td>5</td>\n",
       "      <td>90.55</td>\n",
       "    </tr>\n",
       "    <tr>\n",
       "      <th>6</th>\n",
       "      <td>6</td>\n",
       "      <td>91.50</td>\n",
       "    </tr>\n",
       "    <tr>\n",
       "      <th>7</th>\n",
       "      <td>7</td>\n",
       "      <td>95.00</td>\n",
       "    </tr>\n",
       "    <tr>\n",
       "      <th>8</th>\n",
       "      <td>8</td>\n",
       "      <td>72.50</td>\n",
       "    </tr>\n",
       "    <tr>\n",
       "      <th>9</th>\n",
       "      <td>9</td>\n",
       "      <td>90.60</td>\n",
       "    </tr>\n",
       "    <tr>\n",
       "      <th>10</th>\n",
       "      <td>10</td>\n",
       "      <td>81.75</td>\n",
       "    </tr>\n",
       "    <tr>\n",
       "      <th>11</th>\n",
       "      <td>11</td>\n",
       "      <td>84.20</td>\n",
       "    </tr>\n",
       "    <tr>\n",
       "      <th>12</th>\n",
       "      <td>12</td>\n",
       "      <td>83.35</td>\n",
       "    </tr>\n",
       "    <tr>\n",
       "      <th>13</th>\n",
       "      <td>13</td>\n",
       "      <td>87.50</td>\n",
       "    </tr>\n",
       "    <tr>\n",
       "      <th>14</th>\n",
       "      <td>14</td>\n",
       "      <td>89.50</td>\n",
       "    </tr>\n",
       "    <tr>\n",
       "      <th>15</th>\n",
       "      <td>15</td>\n",
       "      <td>70.50</td>\n",
       "    </tr>\n",
       "    <tr>\n",
       "      <th>16</th>\n",
       "      <td>16</td>\n",
       "      <td>84.25</td>\n",
       "    </tr>\n",
       "    <tr>\n",
       "      <th>17</th>\n",
       "      <td>17</td>\n",
       "      <td>68.75</td>\n",
       "    </tr>\n",
       "    <tr>\n",
       "      <th>18</th>\n",
       "      <td>18</td>\n",
       "      <td>82.40</td>\n",
       "    </tr>\n",
       "    <tr>\n",
       "      <th>19</th>\n",
       "      <td>19</td>\n",
       "      <td>80.10</td>\n",
       "    </tr>\n",
       "    <tr>\n",
       "      <th>20</th>\n",
       "      <td>20</td>\n",
       "      <td>85.50</td>\n",
       "    </tr>\n",
       "    <tr>\n",
       "      <th>21</th>\n",
       "      <td>21</td>\n",
       "      <td>83.65</td>\n",
       "    </tr>\n",
       "    <tr>\n",
       "      <th>22</th>\n",
       "      <td>22</td>\n",
       "      <td>84.50</td>\n",
       "    </tr>\n",
       "    <tr>\n",
       "      <th>23</th>\n",
       "      <td>23</td>\n",
       "      <td>83.50</td>\n",
       "    </tr>\n",
       "    <tr>\n",
       "      <th>24</th>\n",
       "      <td>24</td>\n",
       "      <td>79.45</td>\n",
       "    </tr>\n",
       "    <tr>\n",
       "      <th>25</th>\n",
       "      <td>25</td>\n",
       "      <td>86.75</td>\n",
       "    </tr>\n",
       "    <tr>\n",
       "      <th>26</th>\n",
       "      <td>26</td>\n",
       "      <td>77.30</td>\n",
       "    </tr>\n",
       "    <tr>\n",
       "      <th>27</th>\n",
       "      <td>27</td>\n",
       "      <td>88.50</td>\n",
       "    </tr>\n",
       "    <tr>\n",
       "      <th>28</th>\n",
       "      <td>28</td>\n",
       "      <td>78.25</td>\n",
       "    </tr>\n",
       "    <tr>\n",
       "      <th>29</th>\n",
       "      <td>29</td>\n",
       "      <td>88.50</td>\n",
       "    </tr>\n",
       "  </tbody>\n",
       "</table>\n",
       "</div>"
      ],
      "text/plain": [
       "    student_id  final_grade\n",
       "0            0        83.00\n",
       "1            1        79.10\n",
       "2            2        71.50\n",
       "3            3        86.50\n",
       "4            4        80.00\n",
       "5            5        90.55\n",
       "6            6        91.50\n",
       "7            7        95.00\n",
       "8            8        72.50\n",
       "9            9        90.60\n",
       "10          10        81.75\n",
       "11          11        84.20\n",
       "12          12        83.35\n",
       "13          13        87.50\n",
       "14          14        89.50\n",
       "15          15        70.50\n",
       "16          16        84.25\n",
       "17          17        68.75\n",
       "18          18        82.40\n",
       "19          19        80.10\n",
       "20          20        85.50\n",
       "21          21        83.65\n",
       "22          22        84.50\n",
       "23          23        83.50\n",
       "24          24        79.45\n",
       "25          25        86.75\n",
       "26          26        77.30\n",
       "27          27        88.50\n",
       "28          28        78.25\n",
       "29          29        88.50"
      ]
     },
     "execution_count": 161,
     "metadata": {},
     "output_type": "execute_result"
    }
   ],
   "source": [
    "query4 = pd.read_sql(\"SELECT student_id, SUM(assignments.weight * grades.grade) AS final_grade FROM assignments JOIN grades ON assignments.assignment_id = grades.assignment_id GROUP BY student_id\", con=connection)\n",
    "query4\n",
    "#\"CREATE VIEW final_grades AS (SELECT student_id, SUM(assignments.weight * grades.grade) AS result FROM assignments JOIN grades ON assignments.assignment_id = grades.assignment_id GROUP BY student_id)\"\n",
    "# SELECT s.student_id, s.name, s.gpa, s.major, s.year, s.gender, s.birthday, s.email, c.course_name, c.instructor, c.grade_avg, c.day, c.time, c.credit_hrs, fg.result AS final_grade\n",
    "# FROM final_grades AS fg\n",
    "# JOIN students AS s\n",
    "# ON s.student_id = fg.student_id\n",
    "# JOIN courses AS c\n",
    "# ON s.course_id = c.cou"
   ]
  },
  {
   "cell_type": "code",
   "execution_count": 162,
   "metadata": {},
   "outputs": [],
   "source": [
    "query5 = pd.read_sql(\"SELECT student_id, assignments.weight * grades.grade AS result FROM assignments JOIN grades ON assignments.assignment_id = grades.assignment_id\" , con=connection)"
   ]
  },
  {
   "cell_type": "code",
   "execution_count": 163,
   "metadata": {},
   "outputs": [],
   "source": [
    "stud_grade = pd.merge(students,query4[['student_id','final_grade']],on='student_id', how='inner')\n",
    "grades_of_students= pd.merge(assign,grad[['assignment_id','student_id','grade']], on ='assignment_id', how='outer')\n",
    "dic = grades_of_students.to_dict('records')\n",
    "dics ={}\n",
    "for i in dic: \n",
    "    if i['student_id'] not in dics: \n",
    "        dics[i['student_id']] = [] \n",
    "        dics[i['student_id']].append({i['assignment_name']:i['grade']})\n",
    "    else: \n",
    "        dics[i['student_id']].append({i['assignment_name']:i['grade']})\n"
   ]
  },
  {
   "cell_type": "code",
   "execution_count": 164,
   "metadata": {},
   "outputs": [],
   "source": [
    "full_df = pd.merge(stud_grade,courses[['course_id','course_name','instructor','grade_avg','day','time','credit_hrs']],on='course_id', how='inner')"
   ]
  },
  {
   "cell_type": "code",
   "execution_count": 165,
   "metadata": {},
   "outputs": [
    {
     "data": {
      "text/plain": [
       "30"
      ]
     },
     "execution_count": 165,
     "metadata": {},
     "output_type": "execute_result"
    }
   ],
   "source": [
    "full_df.to_sql(name=\"students_information\", con=connection, if_exists='replace', index=False)"
   ]
  },
  {
   "cell_type": "code",
   "execution_count": 476,
   "metadata": {},
   "outputs": [],
   "source": [
    "mongo_students = full_df.to_dict('records')\n",
    "studes = studs.to_dict('records')\n",
    "cours = cors.to_dict('records')\n",
    "cors\n",
    "for i in studes: \n",
    "    i['course_id'] = cours[i['course_id']]\n",
    "lis = []\n",
    "count = 0\n",
    "for i in studes: \n",
    "    i['course_id']['cumulative_grades'] = dics[i['student_id']]\n",
    "student_updated=studes\n",
    "studes\n",
    "dic = {}\n",
    "for i in studes: \n",
    "    if i ['name'] not in dic: \n",
    "        dic[i['name']]=i['course_id']['cumulative_grades']"
   ]
  },
  {
   "cell_type": "code",
   "execution_count": 167,
   "metadata": {},
   "outputs": [],
   "source": [
    "import pymongo\n",
    "from pymongo import MongoClient\n",
    "import pandas as pd\n",
    "import pprint"
   ]
  },
  {
   "cell_type": "code",
   "execution_count": 168,
   "metadata": {},
   "outputs": [],
   "source": [
    "client = MongoClient('localhost', 27017)"
   ]
  },
  {
   "cell_type": "code",
   "execution_count": 169,
   "metadata": {},
   "outputs": [],
   "source": [
    "db = client.college_students"
   ]
  },
  {
   "cell_type": "code",
   "execution_count": 170,
   "metadata": {},
   "outputs": [],
   "source": [
    "student_collection = db.students"
   ]
  },
  {
   "cell_type": "code",
   "execution_count": 171,
   "metadata": {},
   "outputs": [],
   "source": [
    "student_coll = db.studes"
   ]
  },
  {
   "cell_type": "code",
   "execution_count": 172,
   "metadata": {},
   "outputs": [],
   "source": [
    "student_cols = db.studs_grades"
   ]
  },
  {
   "cell_type": "code",
   "execution_count": 173,
   "metadata": {},
   "outputs": [
    {
     "data": {
      "text/plain": [
       "<pymongo.results.InsertManyResult at 0x27dc1b6a320>"
      ]
     },
     "execution_count": 173,
     "metadata": {},
     "output_type": "execute_result"
    }
   ],
   "source": [
    "student_coll.insert_many(studes)"
   ]
  },
  {
   "cell_type": "code",
   "execution_count": 174,
   "metadata": {},
   "outputs": [
    {
     "data": {
      "text/plain": [
       "<pymongo.results.InsertManyResult at 0x27dc8cd5b70>"
      ]
     },
     "execution_count": 174,
     "metadata": {},
     "output_type": "execute_result"
    }
   ],
   "source": [
    "student_collection.insert_many(mongo_students)"
   ]
  },
  {
   "cell_type": "code",
   "execution_count": 175,
   "metadata": {},
   "outputs": [
    {
     "data": {
      "text/plain": [
       "<pymongo.results.InsertManyResult at 0x27dc1c31d50>"
      ]
     },
     "execution_count": 175,
     "metadata": {},
     "output_type": "execute_result"
    }
   ],
   "source": [
    "student_cols.insert_many(student_updated)"
   ]
  },
  {
   "cell_type": "code",
   "execution_count": 176,
   "metadata": {},
   "outputs": [],
   "source": [
    "top_students= {'final_grade': {'$gt': 93,\"$lt\":97}}\n",
    "top = student_collection.find(top_students)"
   ]
  },
  {
   "cell_type": "code",
   "execution_count": 177,
   "metadata": {},
   "outputs": [],
   "source": [
    "# for e in top:\n",
    "#     pprint.pprint(e)"
   ]
  },
  {
   "cell_type": "code",
   "execution_count": 178,
   "metadata": {},
   "outputs": [],
   "source": [
    "bottom_students= {'grades': {'$gt': 0,\"$lt\":100}}\n",
    "bottom = student_collection.find(bottom_students)"
   ]
  },
  {
   "cell_type": "code",
   "execution_count": 179,
   "metadata": {},
   "outputs": [],
   "source": [
    "for i in bottom:\n",
    "    pprint.pprint(e)"
   ]
  },
  {
   "cell_type": "code",
   "execution_count": 180,
   "metadata": {},
   "outputs": [],
   "source": [
    "nest = full_df.to_json(orient=\"split\")\n"
   ]
  },
  {
   "cell_type": "code",
   "execution_count": 479,
   "metadata": {},
   "outputs": [],
   "source": [
    "query5 = pd.read_sql(\"SELECT name,major,year,course_name,final_grade,gpa,gender FROM students_information\" , con=connection)"
   ]
  },
  {
   "cell_type": "code",
   "execution_count": null,
   "metadata": {},
   "outputs": [],
   "source": []
  },
  {
   "cell_type": "code",
   "execution_count": 182,
   "metadata": {},
   "outputs": [
    {
     "name": "stdout",
     "output_type": "stream",
     "text": [
      "Defaulting to user installation because normal site-packages is not writeable\n",
      "Requirement already satisfied: py2neo in c:\\users\\claire o'neill\\appdata\\roaming\\python\\python310\\site-packages (2021.2.3)\n",
      "Requirement already satisfied: packaging in c:\\programdata\\anaconda3\\lib\\site-packages (from py2neo) (22.0)\n",
      "Requirement already satisfied: certifi in c:\\programdata\\anaconda3\\lib\\site-packages (from py2neo) (2022.12.7)\n",
      "Requirement already satisfied: six>=1.15.0 in c:\\programdata\\anaconda3\\lib\\site-packages (from py2neo) (1.16.0)\n",
      "Requirement already satisfied: urllib3 in c:\\programdata\\anaconda3\\lib\\site-packages (from py2neo) (1.26.14)\n",
      "Requirement already satisfied: pygments>=2.0.0 in c:\\programdata\\anaconda3\\lib\\site-packages (from py2neo) (2.11.2)\n",
      "Requirement already satisfied: interchange~=2021.0.4 in c:\\users\\claire o'neill\\appdata\\roaming\\python\\python310\\site-packages (from py2neo) (2021.0.4)\n",
      "Requirement already satisfied: pansi>=2020.7.3 in c:\\users\\claire o'neill\\appdata\\roaming\\python\\python310\\site-packages (from py2neo) (2020.7.3)\n",
      "Requirement already satisfied: monotonic in c:\\users\\claire o'neill\\appdata\\roaming\\python\\python310\\site-packages (from py2neo) (1.6)\n",
      "Requirement already satisfied: pytz in c:\\programdata\\anaconda3\\lib\\site-packages (from interchange~=2021.0.4->py2neo) (2022.7)\n",
      "Note: you may need to restart the kernel to use updated packages.\n"
     ]
    }
   ],
   "source": [
    "pip install py2neo"
   ]
  },
  {
   "cell_type": "code",
   "execution_count": 212,
   "metadata": {},
   "outputs": [],
   "source": [
    "from py2neo import Graph"
   ]
  },
  {
   "cell_type": "code",
   "execution_count": 484,
   "metadata": {},
   "outputs": [],
   "source": [
    "graph = Graph(\"bolt://localhost:7687\", auth=(\"neo4j\", \"password\"))"
   ]
  },
  {
   "cell_type": "code",
   "execution_count": 485,
   "metadata": {},
   "outputs": [
    {
     "data": {
      "text/plain": [
       "py2neo.database.Graph"
      ]
     },
     "execution_count": 485,
     "metadata": {},
     "output_type": "execute_result"
    }
   ],
   "source": [
    "type(graph)"
   ]
  },
  {
   "cell_type": "code",
   "execution_count": 523,
   "metadata": {},
   "outputs": [
    {
     "data": {
      "text/html": [
       "(No data)"
      ],
      "text/plain": [
       "(No data)"
      ]
     },
     "execution_count": 523,
     "metadata": {},
     "output_type": "execute_result"
    }
   ],
   "source": [
    "graph.run(\"MATCH (n) DETACH DELETE n\")"
   ]
  },
  {
   "cell_type": "code",
   "execution_count": 524,
   "metadata": {},
   "outputs": [
    {
     "data": {
      "text/html": [
       "(No data)"
      ],
      "text/plain": [
       "(No data)"
      ]
     },
     "execution_count": 524,
     "metadata": {},
     "output_type": "execute_result"
    }
   ],
   "source": [
    "graph.run(\"CREATE (:GENDER {gender:'\" + \"female\" + \"'})\")\n",
    "graph.run(\"CREATE (:GENDER {gender:'\" + \"male\" + \"'})\")\n",
    "graph.run(\"CREATE (:GENDER {gender:'\" + \"nonbinary\" + \"'})\")"
   ]
  },
  {
   "cell_type": "code",
   "execution_count": 525,
   "metadata": {},
   "outputs": [],
   "source": [
    "for i in range(len(cors)):\n",
    "    row = cors.iloc[i]\n",
    "    graph.run(\"CREATE (:COURSES {course_name:\" + row['course_name'] + \",grade_avg:'\" + row.grade_avg +  \"',instructor:'\" + row.instructor + \"'})\")"
   ]
  },
  {
   "cell_type": "code",
   "execution_count": 526,
   "metadata": {},
   "outputs": [],
   "source": [
    "# for i in range(len(query5.year)):\n",
    "#     row = query5.iloc[i]    \n",
    "#     graph.run(\"MATCH (p:PERSON {name:'\" + row['name'] +\"'}), (s:COURSES {name:'\" + row['course_name'] + \"'}) CREATE (p)-[:TAKES_CLASS]->(s)\")\n",
    "# MATCH (n:Tag)\n",
    "# WITH n.name AS name, COLLECT(n) AS nodelist, COUNT(*) AS count\n",
    "# WHERE count > 1\n",
    "# CALL apoc.refactor.mergeNodes(nodelist) YIELD node\n",
    "# RETURN node\n",
    "# graph.run(\"CREATE CONSTRAINT ON (_0:STUDENT) ASSERT _0.STUDENT IS UNIQUE;\")"
   ]
  },
  {
   "cell_type": "code",
   "execution_count": 527,
   "metadata": {},
   "outputs": [],
   "source": [
    "course_name_list = query5['course_name'].value_counts().index"
   ]
  },
  {
   "cell_type": "code",
   "execution_count": 528,
   "metadata": {},
   "outputs": [],
   "source": [
    "for i in range(len(query5)):\n",
    "    row = query5.iloc[i]\n",
    "    graph.run(\"CREATE (:PERSON {name: '\" + row['name'] + \"', final_grade: \" + str(row['final_grade']) + \", gpa: \" + str(row['gpa']) + \", major: '\" + row['major'] + \"'})\")"
   ]
  },
  {
   "cell_type": "code",
   "execution_count": 529,
   "metadata": {},
   "outputs": [],
   "source": [
    "for i in range(3):\n",
    "    row = query5.iloc[i]\n",
    "    graph.run(\"CREATE (:PERSON {name: '\" + row['name'] + \"', final_grade: \" + str(row['final_grade']) + \", gpa: \" + str(row['gpa']) + \", major: '\" + row['major'] + \"', gender: '\" + row['gender'] + \"'})\")"
   ]
  },
  {
   "cell_type": "code",
   "execution_count": 530,
   "metadata": {},
   "outputs": [],
   "source": [
    "#new query \n",
    "for i in range(len(query5)):\n",
    "    row = query5.iloc[i]\n",
    "    graph.run(f\"\"\" MATCH\n",
    "    (p:PERSON), \n",
    "    (c:COURSES)\n",
    "    WHERE p.name = \"{row['name']}\" AND c.course_name ={row['course_name']} \n",
    "    CREATE (p)-[r:TAKES]->(c)\"\"\")\n",
    "# MATCH \n",
    "# (p:PERSON), \n",
    "# (c:COURSE) WHERE p.name = \"Ethan Patel\" AND c.course_name = \"Exploring Contemporary Art Movements\" \n",
    "# CREATE (p)-[r:TAKES]->(c) RETURN p,c"
   ]
  },
  {
   "cell_type": "code",
   "execution_count": 531,
   "metadata": {},
   "outputs": [],
   "source": [
    "for i in range(1,6):\n",
    "    graph.run(\"CREATE (:YEAR {year:'\" + str(i) + \"'})\")"
   ]
  },
  {
   "cell_type": "code",
   "execution_count": 532,
   "metadata": {},
   "outputs": [],
   "source": [
    "for i in range(len(query5)):\n",
    "    row = query5.iloc[i]\n",
    "    graph.run(f\"\"\" MATCH\n",
    "    (p:PERSON), \n",
    "    (y:YEAR)\n",
    "    WHERE p.name = \"{row['name']}\" AND y.year ='{str(row['year'])}' \n",
    "    CREATE (p)-[r:IS_IN_YEAR]->(y)\"\"\")"
   ]
  },
  {
   "cell_type": "code",
   "execution_count": 533,
   "metadata": {},
   "outputs": [],
   "source": [
    "for i in range(len(query5)):\n",
    "    row = query5.iloc[i]\n",
    "    graph.run(f\"\"\" MATCH\n",
    "    (p:PERSON), \n",
    "    (g:GENDER)\n",
    "    WHERE p.name = \"{row['name']}\" AND g.gender ='{row['gender']}' \n",
    "    CREATE (p)-[r:IDENTIFIES_AS]->(g)\"\"\")"
   ]
  },
  {
   "cell_type": "code",
   "execution_count": 283,
   "metadata": {},
   "outputs": [],
   "source": [
    "# for i in range(len(query5)):\n",
    "#     row = query5.iloc[i]\n",
    "#     #First step: Create the person nodes, with the properties that won't be used to create relationships.\n",
    "#     graph.run(\"CREATE (:PERSON {name:'\" + row['name'] + \"'})\")\n",
    "#     graph.run(\"CREATE (:COURSE {course:'\" + row['course_name'] + \"'})\")\n",
    "#     graph.run(\"CREATE (:YEAR {year:'\" + str(row['year']) + \"'})\")\n",
    "#     #What would creating relationships to companies and schools look like? Let's go to the cypher browser\n",
    "#     graph.run(\"MATCH (p:PERSON {name:'\" + row['name'] +\"'}), (c:COURSES {name:'\" + row['course_name'] + \"'}) CREATE (p)-[:TAKES]->(c)\")\n",
    "    \n",
    "#     #Same (similar) deal for schools\n",
    "#     graph.run(\"MATCH (p:PERSON {name:'\" + row['name'] +\"'}), (y:YEAR {name:'\" + str(row['year']) + \"'}) CREATE (p)-[:IS_IN_YEAR]->(y)\")\n",
    "#     # graph.run(\"MATCH (p:PERSON {name:'\" + row['name'] +\"'}), (m:MAJOR {name:'\" + row['major'] + \"'}) CREATE (p)-[:MAJORS_IN]->(m)\")"
   ]
  },
  {
   "cell_type": "code",
   "execution_count": null,
   "metadata": {},
   "outputs": [],
   "source": []
  }
 ],
 "metadata": {
  "colab": {
   "provenance": []
  },
  "kernelspec": {
   "display_name": "Python 3 (ipykernel)",
   "language": "python",
   "name": "python3"
  },
  "language_info": {
   "codemirror_mode": {
    "name": "ipython",
    "version": 3
   },
   "file_extension": ".py",
   "mimetype": "text/x-python",
   "name": "python",
   "nbconvert_exporter": "python",
   "pygments_lexer": "ipython3",
   "version": "3.10.9"
  }
 },
 "nbformat": 4,
 "nbformat_minor": 4
}
